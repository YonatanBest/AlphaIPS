{
 "cells": [
  {
   "cell_type": "code",
   "execution_count": 2,
   "id": "94b88fd9-4fab-4e4c-83a4-6e045c5cf54f",
   "metadata": {},
   "outputs": [],
   "source": [
    "import pandas as pd\n",
    "import seaborn as sns\n",
    "import matplotlib.pyplot as plt"
   ]
  },
  {
   "cell_type": "code",
   "execution_count": 3,
   "id": "2300a674-c349-45f8-8beb-6a87089ca2eb",
   "metadata": {},
   "outputs": [],
   "source": [
    "df = pd.read_csv(\"realistic_network_data.csv\")"
   ]
  },
  {
   "cell_type": "code",
   "execution_count": 4,
   "id": "f428b63a-16e2-4122-a197-36acf02ee167",
   "metadata": {},
   "outputs": [
    {
     "data": {
      "text/plain": [
       "(10000000, 10)"
      ]
     },
     "execution_count": 4,
     "metadata": {},
     "output_type": "execute_result"
    }
   ],
   "source": [
    "df.shape"
   ]
  },
  {
   "cell_type": "code",
   "execution_count": 5,
   "id": "81cd041a-f776-4106-b1a5-01d62faa88f0",
   "metadata": {},
   "outputs": [
    {
     "name": "stdout",
     "output_type": "stream",
     "text": [
      "<class 'pandas.core.frame.DataFrame'>\n",
      "RangeIndex: 10000000 entries, 0 to 9999999\n",
      "Data columns (total 10 columns):\n",
      " #   Column         Dtype  \n",
      "---  ------         -----  \n",
      " 0   duration       float64\n",
      " 1   protocol_type  object \n",
      " 2   service        object \n",
      " 3   flag           object \n",
      " 4   src_bytes      int64  \n",
      " 5   dst_bytes      int64  \n",
      " 6   land           int64  \n",
      " 7   count          int64  \n",
      " 8   srv_count      int64  \n",
      " 9   result         object \n",
      "dtypes: float64(1), int64(5), object(4)\n",
      "memory usage: 762.9+ MB\n"
     ]
    }
   ],
   "source": [
    "df.info()"
   ]
  },
  {
   "cell_type": "code",
   "execution_count": 6,
   "id": "be3630c3-3f3a-4c28-aafe-91eec07e8e4c",
   "metadata": {},
   "outputs": [
    {
     "data": {
      "text/html": [
       "<div>\n",
       "<style scoped>\n",
       "    .dataframe tbody tr th:only-of-type {\n",
       "        vertical-align: middle;\n",
       "    }\n",
       "\n",
       "    .dataframe tbody tr th {\n",
       "        vertical-align: top;\n",
       "    }\n",
       "\n",
       "    .dataframe thead th {\n",
       "        text-align: right;\n",
       "    }\n",
       "</style>\n",
       "<table border=\"1\" class=\"dataframe\">\n",
       "  <thead>\n",
       "    <tr style=\"text-align: right;\">\n",
       "      <th></th>\n",
       "      <th>duration</th>\n",
       "      <th>protocol_type</th>\n",
       "      <th>service</th>\n",
       "      <th>flag</th>\n",
       "      <th>src_bytes</th>\n",
       "      <th>dst_bytes</th>\n",
       "      <th>land</th>\n",
       "      <th>count</th>\n",
       "      <th>srv_count</th>\n",
       "      <th>result</th>\n",
       "    </tr>\n",
       "  </thead>\n",
       "  <tbody>\n",
       "    <tr>\n",
       "      <th>0</th>\n",
       "      <td>15.6</td>\n",
       "      <td>icmp</td>\n",
       "      <td>finger</td>\n",
       "      <td>OTH</td>\n",
       "      <td>2039</td>\n",
       "      <td>575</td>\n",
       "      <td>0</td>\n",
       "      <td>12</td>\n",
       "      <td>9</td>\n",
       "      <td>normal</td>\n",
       "    </tr>\n",
       "    <tr>\n",
       "      <th>1</th>\n",
       "      <td>13.7</td>\n",
       "      <td>arp</td>\n",
       "      <td>cifs</td>\n",
       "      <td>ECE</td>\n",
       "      <td>2507</td>\n",
       "      <td>684</td>\n",
       "      <td>0</td>\n",
       "      <td>17</td>\n",
       "      <td>6</td>\n",
       "      <td>normal</td>\n",
       "    </tr>\n",
       "    <tr>\n",
       "      <th>2</th>\n",
       "      <td>7.3</td>\n",
       "      <td>eigrp</td>\n",
       "      <td>ncp</td>\n",
       "      <td>SYN</td>\n",
       "      <td>1894</td>\n",
       "      <td>1836</td>\n",
       "      <td>0</td>\n",
       "      <td>15</td>\n",
       "      <td>4</td>\n",
       "      <td>normal</td>\n",
       "    </tr>\n",
       "    <tr>\n",
       "      <th>3</th>\n",
       "      <td>7.9</td>\n",
       "      <td>ospf</td>\n",
       "      <td>irc</td>\n",
       "      <td>SHR</td>\n",
       "      <td>4500</td>\n",
       "      <td>3293</td>\n",
       "      <td>0</td>\n",
       "      <td>8</td>\n",
       "      <td>2</td>\n",
       "      <td>normal</td>\n",
       "    </tr>\n",
       "    <tr>\n",
       "      <th>4</th>\n",
       "      <td>1.8</td>\n",
       "      <td>tcp</td>\n",
       "      <td>irc</td>\n",
       "      <td>CWR</td>\n",
       "      <td>2524</td>\n",
       "      <td>477</td>\n",
       "      <td>0</td>\n",
       "      <td>18</td>\n",
       "      <td>6</td>\n",
       "      <td>normal</td>\n",
       "    </tr>\n",
       "  </tbody>\n",
       "</table>\n",
       "</div>"
      ],
      "text/plain": [
       "   duration protocol_type service flag  src_bytes  dst_bytes  land  count  \\\n",
       "0      15.6          icmp  finger  OTH       2039        575     0     12   \n",
       "1      13.7           arp    cifs  ECE       2507        684     0     17   \n",
       "2       7.3         eigrp     ncp  SYN       1894       1836     0     15   \n",
       "3       7.9          ospf     irc  SHR       4500       3293     0      8   \n",
       "4       1.8           tcp     irc  CWR       2524        477     0     18   \n",
       "\n",
       "   srv_count  result  \n",
       "0          9  normal  \n",
       "1          6  normal  \n",
       "2          4  normal  \n",
       "3          2  normal  \n",
       "4          6  normal  "
      ]
     },
     "execution_count": 6,
     "metadata": {},
     "output_type": "execute_result"
    }
   ],
   "source": [
    "df.head()"
   ]
  },
  {
   "cell_type": "code",
   "execution_count": 7,
   "id": "56db6732-e865-4ff1-a124-c5a976b1c593",
   "metadata": {},
   "outputs": [
    {
     "name": "stdout",
     "output_type": "stream",
     "text": [
      "<class 'pandas.core.frame.DataFrame'>\n",
      "RangeIndex: 10000000 entries, 0 to 9999999\n",
      "Data columns (total 10 columns):\n",
      " #   Column         Dtype  \n",
      "---  ------         -----  \n",
      " 0   duration       float64\n",
      " 1   protocol_type  object \n",
      " 2   service        object \n",
      " 3   flag           object \n",
      " 4   src_bytes      int64  \n",
      " 5   dst_bytes      int64  \n",
      " 6   land           int64  \n",
      " 7   count          int64  \n",
      " 8   srv_count      int64  \n",
      " 9   result         object \n",
      "dtypes: float64(1), int64(5), object(4)\n",
      "memory usage: 762.9+ MB\n",
      "None\n",
      "           duration     src_bytes     dst_bytes          land         count  \\\n",
      "count  1.000000e+07  1.000000e+07  1.000000e+07  1.000000e+07  1.000000e+07   \n",
      "mean   1.080341e+02  3.000063e+03  1.500044e+03  1.001104e-01  1.850628e+01   \n",
      "std    2.347941e+02  2.082080e+03  1.280447e+03  3.001472e-01  2.119799e+01   \n",
      "min    0.000000e+00  0.000000e+00  0.000000e+00  0.000000e+00  1.000000e+00   \n",
      "25%    6.200000e+00  1.388000e+03  4.190000e+02  0.000000e+00  6.000000e+00   \n",
      "50%    1.240000e+01  2.778000e+03  1.148000e+03  0.000000e+00  1.200000e+01   \n",
      "75%    1.870000e+01  4.167000e+03  2.326000e+03  0.000000e+00  1.800000e+01   \n",
      "max    1.000000e+03  1.000000e+04  5.000000e+03  1.000000e+00  1.000000e+02   \n",
      "\n",
      "          srv_count  \n",
      "count  1.000000e+07  \n",
      "mean   9.500106e+00  \n",
      "std    1.059643e+01  \n",
      "min    1.000000e+00  \n",
      "25%    3.000000e+00  \n",
      "50%    6.000000e+00  \n",
      "75%    9.000000e+00  \n",
      "max    5.000000e+01  \n"
     ]
    },
    {
     "name": "stderr",
     "output_type": "stream",
     "text": [
      "C:\\Users\\yonat\\AppData\\Local\\Temp\\ipykernel_40744\\1219526059.py:16: FutureWarning: DataFrame.fillna with 'method' is deprecated and will raise in a future version. Use obj.ffill() or obj.bfill() instead.\n",
      "  df.fillna(method='ffill', inplace=True)  # Example: forward fill\n"
     ]
    },
    {
     "name": "stdout",
     "output_type": "stream",
     "text": [
      "              precision    recall  f1-score   support\n",
      "\n",
      "           0       1.00      1.00      1.00    398825\n",
      "           1       1.00      1.00      1.00   1601175\n",
      "\n",
      "    accuracy                           1.00   2000000\n",
      "   macro avg       1.00      1.00      1.00   2000000\n",
      "weighted avg       1.00      1.00      1.00   2000000\n",
      "\n",
      "[[ 398762      63]\n",
      " [      0 1601175]]\n"
     ]
    },
    {
     "data": {
      "text/plain": [
       "['trained_model_synthetic_data.pkl']"
      ]
     },
     "execution_count": 7,
     "metadata": {},
     "output_type": "execute_result"
    }
   ],
   "source": [
    "import pandas as pd\n",
    "from sklearn.model_selection import train_test_split, GridSearchCV\n",
    "from sklearn.ensemble import RandomForestClassifier\n",
    "from sklearn.preprocessing import StandardScaler, LabelEncoder\n",
    "from sklearn.metrics import classification_report, confusion_matrix\n",
    "import joblib\n",
    "\n",
    "# Load your DataFrame (assuming it's already loaded as `df`)\n",
    "\n",
    "# Preprocessing\n",
    "# 1. Inspect the data\n",
    "print(df.info())\n",
    "print(df.describe())\n",
    "\n",
    "# 2. Handle missing values\n",
    "df.fillna(method='ffill', inplace=True)  # Example: forward fill\n",
    "\n",
    "# 3. Encode categorical variables\n",
    "df = pd.get_dummies(df, columns=['protocol_type', 'service', 'flag'])\n",
    "\n",
    "# 4. Encode the target variable (result)\n",
    "label_encoder = LabelEncoder()\n",
    "df['result'] = label_encoder.fit_transform(df['result'])  # \"normal\" -> 0, \"abnormal\" -> 1\n",
    "\n",
    "# 5. Feature scaling\n",
    "scaler = StandardScaler()\n",
    "df[['duration', 'src_bytes', 'dst_bytes', 'land', 'count', 'srv_count']] = scaler.fit_transform(\n",
    "    df[['duration', 'src_bytes', 'dst_bytes', 'land', 'count', 'srv_count']]\n",
    ")\n",
    "\n",
    "# 6. Split the data into features and target\n",
    "X = df.drop('result', axis=1)  # Features\n",
    "y = df['result']                # Target variable\n",
    "X_train, X_test, y_train, y_test = train_test_split(X, y, test_size=0.2, random_state=42)\n",
    "\n",
    "# Model training\n",
    "model = RandomForestClassifier(random_state=42)\n",
    "model.fit(X_train, y_train)\n",
    "\n",
    "# Model evaluation\n",
    "y_pred = model.predict(X_test)\n",
    "print(classification_report(y_test, y_pred))\n",
    "print(confusion_matrix(y_test, y_pred))\n",
    "# Save the model\n",
    "joblib.dump(model, 'trained_model_synthetic_data.pkl')"
   ]
  },
  {
   "cell_type": "code",
   "execution_count": null,
   "id": "82a56011-c901-456f-bc57-27d0f383d7f6",
   "metadata": {},
   "outputs": [],
   "source": [
    "# Hyperparameter tuning (optional)\n",
    "param_grid = {\n",
    "    'n_estimators': [100, 200],\n",
    "    'max_depth': [None, 10, 20, 30],\n",
    "}\n",
    "grid_search = GridSearchCV(RandomForestClassifier(), param_grid, cv=3)\n",
    "grid_search.fit(X_train, y_train)"
   ]
  }
 ],
 "metadata": {
  "kernelspec": {
   "display_name": "Python 3 (ipykernel)",
   "language": "python",
   "name": "python3"
  },
  "language_info": {
   "codemirror_mode": {
    "name": "ipython",
    "version": 3
   },
   "file_extension": ".py",
   "mimetype": "text/x-python",
   "name": "python",
   "nbconvert_exporter": "python",
   "pygments_lexer": "ipython3",
   "version": "3.12.3"
  }
 },
 "nbformat": 4,
 "nbformat_minor": 5
}
