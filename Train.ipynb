{
 "cells": [
  {
   "cell_type": "code",
   "execution_count": 2,
   "id": "94b88fd9-4fab-4e4c-83a4-6e045c5cf54f",
   "metadata": {},
   "outputs": [],
   "source": [
    "import pandas as pd\n",
    "import seaborn as sns\n",
    "import matplotlib.pyplot as plt"
   ]
  },
  {
   "cell_type": "code",
   "execution_count": 3,
   "id": "2300a674-c349-45f8-8beb-6a87089ca2eb",
   "metadata": {},
   "outputs": [],
   "source": [
    "df = pd.read_csv(\"DataToDetect.csv\")"
   ]
  },
  {
   "cell_type": "code",
   "execution_count": 4,
   "id": "f428b63a-16e2-4122-a197-36acf02ee167",
   "metadata": {},
   "outputs": [
    {
     "data": {
      "text/plain": [
       "(4898431, 10)"
      ]
     },
     "execution_count": 4,
     "metadata": {},
     "output_type": "execute_result"
    }
   ],
   "source": [
    "df.shape"
   ]
  },
  {
   "cell_type": "code",
   "execution_count": 5,
   "id": "81cd041a-f776-4106-b1a5-01d62faa88f0",
   "metadata": {},
   "outputs": [
    {
     "name": "stdout",
     "output_type": "stream",
     "text": [
      "<class 'pandas.core.frame.DataFrame'>\n",
      "RangeIndex: 4898431 entries, 0 to 4898430\n",
      "Data columns (total 10 columns):\n",
      " #   Column         Dtype \n",
      "---  ------         ----- \n",
      " 0   duration       int64 \n",
      " 1   protocol_type  object\n",
      " 2   service        object\n",
      " 3   flag           object\n",
      " 4   src_bytes      int64 \n",
      " 5   dst_bytes      int64 \n",
      " 6   land           int64 \n",
      " 7   count          int64 \n",
      " 8   srv_count      int64 \n",
      " 9   result         object\n",
      "dtypes: int64(6), object(4)\n",
      "memory usage: 373.7+ MB\n"
     ]
    }
   ],
   "source": [
    "df.info()"
   ]
  },
  {
   "cell_type": "code",
   "execution_count": 6,
   "id": "be3630c3-3f3a-4c28-aafe-91eec07e8e4c",
   "metadata": {},
   "outputs": [
    {
     "data": {
      "text/html": [
       "<div>\n",
       "<style scoped>\n",
       "    .dataframe tbody tr th:only-of-type {\n",
       "        vertical-align: middle;\n",
       "    }\n",
       "\n",
       "    .dataframe tbody tr th {\n",
       "        vertical-align: top;\n",
       "    }\n",
       "\n",
       "    .dataframe thead th {\n",
       "        text-align: right;\n",
       "    }\n",
       "</style>\n",
       "<table border=\"1\" class=\"dataframe\">\n",
       "  <thead>\n",
       "    <tr style=\"text-align: right;\">\n",
       "      <th></th>\n",
       "      <th>duration</th>\n",
       "      <th>protocol_type</th>\n",
       "      <th>service</th>\n",
       "      <th>flag</th>\n",
       "      <th>src_bytes</th>\n",
       "      <th>dst_bytes</th>\n",
       "      <th>land</th>\n",
       "      <th>count</th>\n",
       "      <th>srv_count</th>\n",
       "      <th>result</th>\n",
       "    </tr>\n",
       "  </thead>\n",
       "  <tbody>\n",
       "    <tr>\n",
       "      <th>0</th>\n",
       "      <td>0</td>\n",
       "      <td>tcp</td>\n",
       "      <td>http</td>\n",
       "      <td>SF</td>\n",
       "      <td>215</td>\n",
       "      <td>45076</td>\n",
       "      <td>0</td>\n",
       "      <td>1</td>\n",
       "      <td>1</td>\n",
       "      <td>0</td>\n",
       "    </tr>\n",
       "    <tr>\n",
       "      <th>1</th>\n",
       "      <td>0</td>\n",
       "      <td>tcp</td>\n",
       "      <td>http</td>\n",
       "      <td>SF</td>\n",
       "      <td>162</td>\n",
       "      <td>4528</td>\n",
       "      <td>0</td>\n",
       "      <td>2</td>\n",
       "      <td>2</td>\n",
       "      <td>0</td>\n",
       "    </tr>\n",
       "    <tr>\n",
       "      <th>2</th>\n",
       "      <td>0</td>\n",
       "      <td>tcp</td>\n",
       "      <td>http</td>\n",
       "      <td>SF</td>\n",
       "      <td>236</td>\n",
       "      <td>1228</td>\n",
       "      <td>0</td>\n",
       "      <td>1</td>\n",
       "      <td>1</td>\n",
       "      <td>0</td>\n",
       "    </tr>\n",
       "    <tr>\n",
       "      <th>3</th>\n",
       "      <td>0</td>\n",
       "      <td>tcp</td>\n",
       "      <td>http</td>\n",
       "      <td>SF</td>\n",
       "      <td>233</td>\n",
       "      <td>2032</td>\n",
       "      <td>0</td>\n",
       "      <td>2</td>\n",
       "      <td>2</td>\n",
       "      <td>0</td>\n",
       "    </tr>\n",
       "    <tr>\n",
       "      <th>4</th>\n",
       "      <td>0</td>\n",
       "      <td>tcp</td>\n",
       "      <td>http</td>\n",
       "      <td>SF</td>\n",
       "      <td>239</td>\n",
       "      <td>486</td>\n",
       "      <td>0</td>\n",
       "      <td>3</td>\n",
       "      <td>3</td>\n",
       "      <td>0</td>\n",
       "    </tr>\n",
       "  </tbody>\n",
       "</table>\n",
       "</div>"
      ],
      "text/plain": [
       "   duration protocol_type service flag  src_bytes  dst_bytes  land  count  \\\n",
       "0         0           tcp    http   SF        215      45076     0      1   \n",
       "1         0           tcp    http   SF        162       4528     0      2   \n",
       "2         0           tcp    http   SF        236       1228     0      1   \n",
       "3         0           tcp    http   SF        233       2032     0      2   \n",
       "4         0           tcp    http   SF        239        486     0      3   \n",
       "\n",
       "   srv_count  result  \n",
       "0          1       0  \n",
       "1          2       0  \n",
       "2          1       0  \n",
       "3          2       0  \n",
       "4          3       0  "
      ]
     },
     "execution_count": 6,
     "metadata": {},
     "output_type": "execute_result"
    }
   ],
   "source": [
    "df.head()"
   ]
  },
  {
   "cell_type": "code",
   "execution_count": null,
   "id": "56db6732-e865-4ff1-a124-c5a976b1c593",
   "metadata": {},
   "outputs": [
    {
     "name": "stdout",
     "output_type": "stream",
     "text": [
      "<class 'pandas.core.frame.DataFrame'>\n",
      "RangeIndex: 4898431 entries, 0 to 4898430\n",
      "Data columns (total 10 columns):\n",
      " #   Column         Dtype \n",
      "---  ------         ----- \n",
      " 0   duration       int64 \n",
      " 1   protocol_type  object\n",
      " 2   service        object\n",
      " 3   flag           object\n",
      " 4   src_bytes      int64 \n",
      " 5   dst_bytes      int64 \n",
      " 6   land           int64 \n",
      " 7   count          int64 \n",
      " 8   srv_count      int64 \n",
      " 9   result         object\n",
      "dtypes: int64(6), object(4)\n",
      "memory usage: 373.7+ MB\n",
      "None\n",
      "           duration     src_bytes     dst_bytes          land         count  \\\n",
      "count  4.898431e+06  4.898431e+06  4.898431e+06  4.898431e+06  4.898431e+06   \n",
      "mean   4.834243e+01  1.834621e+03  1.093623e+03  5.716116e-06  3.349734e+02   \n",
      "std    7.233298e+02  9.414311e+05  6.450123e+05  2.390833e-03  2.119908e+02   \n",
      "min    0.000000e+00  0.000000e+00  0.000000e+00  0.000000e+00  0.000000e+00   \n",
      "25%    0.000000e+00  4.500000e+01  0.000000e+00  0.000000e+00  1.210000e+02   \n",
      "50%    0.000000e+00  5.200000e+02  0.000000e+00  0.000000e+00  5.100000e+02   \n",
      "75%    0.000000e+00  1.032000e+03  0.000000e+00  0.000000e+00  5.110000e+02   \n",
      "max    5.832900e+04  1.379964e+09  1.309937e+09  1.000000e+00  5.110000e+02   \n",
      "\n",
      "          srv_count  \n",
      "count  4.898431e+06  \n",
      "mean   2.952671e+02  \n",
      "std    2.459927e+02  \n",
      "min    0.000000e+00  \n",
      "25%    1.000000e+01  \n",
      "50%    5.100000e+02  \n",
      "75%    5.110000e+02  \n",
      "max    5.110000e+02  \n"
     ]
    },
    {
     "name": "stderr",
     "output_type": "stream",
     "text": [
      "C:\\Users\\yonat\\AppData\\Local\\Temp\\ipykernel_31636\\2418474322.py:16: FutureWarning: DataFrame.fillna with 'method' is deprecated and will raise in a future version. Use obj.ffill() or obj.bfill() instead.\n",
      "  df.fillna(method='ffill', inplace=True)  # Example: forward fill\n"
     ]
    },
    {
     "name": "stdout",
     "output_type": "stream",
     "text": [
      "              precision    recall  f1-score   support\n",
      "\n",
      "           0       1.00      1.00      1.00    784998\n",
      "           1       1.00      1.00      1.00    194689\n",
      "\n",
      "    accuracy                           1.00    979687\n",
      "   macro avg       1.00      1.00      1.00    979687\n",
      "weighted avg       1.00      1.00      1.00    979687\n",
      "\n",
      "[[784954     44]\n",
      " [    18 194671]]\n"
     ]
    }
   ],
   "source": [
    "import pandas as pd\n",
    "from sklearn.model_selection import train_test_split, GridSearchCV\n",
    "from sklearn.ensemble import RandomForestClassifier\n",
    "from sklearn.preprocessing import StandardScaler, LabelEncoder\n",
    "from sklearn.metrics import classification_report, confusion_matrix\n",
    "import joblib\n",
    "\n",
    "# Load your DataFrame (assuming it's already loaded as `df`)\n",
    "\n",
    "# Preprocessing\n",
    "# 1. Inspect the data\n",
    "print(df.info())\n",
    "print(df.describe())\n",
    "\n",
    "# 2. Handle missing values\n",
    "df.fillna(method='ffill', inplace=True)  # Example: forward fill\n",
    "\n",
    "# 3. Encode categorical variables\n",
    "df = pd.get_dummies(df, columns=['protocol_type', 'service', 'flag'])\n",
    "\n",
    "# 4. Encode the target variable (result)\n",
    "label_encoder = LabelEncoder()\n",
    "df['result'] = label_encoder.fit_transform(df['result'])  # \"normal\" -> 0, \"abnormal\" -> 1\n",
    "\n",
    "# 5. Feature scaling\n",
    "scaler = StandardScaler()\n",
    "df[['duration', 'src_bytes', 'dst_bytes', 'land', 'count', 'srv_count']] = scaler.fit_transform(\n",
    "    df[['duration', 'src_bytes', 'dst_bytes', 'land', 'count', 'srv_count']]\n",
    ")\n",
    "\n",
    "# 6. Split the data into features and target\n",
    "X = df.drop('result', axis=1)  # Features\n",
    "y = df['result']                # Target variable\n",
    "X_train, X_test, y_train, y_test = train_test_split(X, y, test_size=0.2, random_state=42)\n",
    "\n",
    "# Model training\n",
    "model = RandomForestClassifier(random_state=42)\n",
    "model.fit(X_train, y_train)\n",
    "\n",
    "# Model evaluation\n",
    "y_pred = model.predict(X_test)\n",
    "print(classification_report(y_test, y_pred))\n",
    "print(confusion_matrix(y_test, y_pred))\n",
    "# Save the model\n",
    "joblib.dump(model, 'trained_model.pkl')"
   ]
  },
  {
   "cell_type": "code",
   "execution_count": null,
   "id": "82a56011-c901-456f-bc57-27d0f383d7f6",
   "metadata": {},
   "outputs": [],
   "source": [
    "# Hyperparameter tuning (optional)\n",
    "param_grid = {\n",
    "    'n_estimators': [100, 200],\n",
    "    'max_depth': [None, 10, 20, 30],\n",
    "}\n",
    "grid_search = GridSearchCV(RandomForestClassifier(), param_grid, cv=3)\n",
    "grid_search.fit(X_train, y_train)"
   ]
  }
 ],
 "metadata": {
  "kernelspec": {
   "display_name": "Python 3 (ipykernel)",
   "language": "python",
   "name": "python3"
  },
  "language_info": {
   "codemirror_mode": {
    "name": "ipython",
    "version": 3
   },
   "file_extension": ".py",
   "mimetype": "text/x-python",
   "name": "python",
   "nbconvert_exporter": "python",
   "pygments_lexer": "ipython3",
   "version": "3.12.3"
  }
 },
 "nbformat": 4,
 "nbformat_minor": 5
}
