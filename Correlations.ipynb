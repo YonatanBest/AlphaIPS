{
 "cells": [
  {
   "cell_type": "code",
   "execution_count": 2,
   "id": "94b88fd9-4fab-4e4c-83a4-6e045c5cf54f",
   "metadata": {},
   "outputs": [],
   "source": [
    "import pandas as pd\n",
    "import seaborn as sns\n",
    "import matplotlib.pyplot as plt"
   ]
  },
  {
   "cell_type": "code",
   "execution_count": 3,
   "id": "2300a674-c349-45f8-8beb-6a87089ca2eb",
   "metadata": {},
   "outputs": [],
   "source": [
    "df = pd.read_csv(\"realistic_network_data.csv\")"
   ]
  },
  {
   "cell_type": "code",
   "execution_count": 4,
   "id": "f428b63a-16e2-4122-a197-36acf02ee167",
   "metadata": {},
   "outputs": [
    {
     "data": {
      "text/plain": [
       "(10000000, 10)"
      ]
     },
     "execution_count": 4,
     "metadata": {},
     "output_type": "execute_result"
    }
   ],
   "source": [
    "df.shape"
   ]
  },
  {
   "cell_type": "code",
   "execution_count": 5,
   "id": "81cd041a-f776-4106-b1a5-01d62faa88f0",
   "metadata": {},
   "outputs": [
    {
     "name": "stdout",
     "output_type": "stream",
     "text": [
      "<class 'pandas.core.frame.DataFrame'>\n",
      "RangeIndex: 10000000 entries, 0 to 9999999\n",
      "Data columns (total 10 columns):\n",
      " #   Column         Dtype  \n",
      "---  ------         -----  \n",
      " 0   duration       float64\n",
      " 1   protocol_type  object \n",
      " 2   service        object \n",
      " 3   flag           object \n",
      " 4   src_bytes      int64  \n",
      " 5   dst_bytes      int64  \n",
      " 6   land           int64  \n",
      " 7   count          int64  \n",
      " 8   srv_count      int64  \n",
      " 9   result         object \n",
      "dtypes: float64(1), int64(5), object(4)\n",
      "memory usage: 762.9+ MB\n"
     ]
    }
   ],
   "source": [
    "df.info()"
   ]
  },
  {
   "cell_type": "code",
   "execution_count": 6,
   "id": "be3630c3-3f3a-4c28-aafe-91eec07e8e4c",
   "metadata": {},
   "outputs": [
    {
     "data": {
      "text/html": [
       "<div>\n",
       "<style scoped>\n",
       "    .dataframe tbody tr th:only-of-type {\n",
       "        vertical-align: middle;\n",
       "    }\n",
       "\n",
       "    .dataframe tbody tr th {\n",
       "        vertical-align: top;\n",
       "    }\n",
       "\n",
       "    .dataframe thead th {\n",
       "        text-align: right;\n",
       "    }\n",
       "</style>\n",
       "<table border=\"1\" class=\"dataframe\">\n",
       "  <thead>\n",
       "    <tr style=\"text-align: right;\">\n",
       "      <th></th>\n",
       "      <th>duration</th>\n",
       "      <th>protocol_type</th>\n",
       "      <th>service</th>\n",
       "      <th>flag</th>\n",
       "      <th>src_bytes</th>\n",
       "      <th>dst_bytes</th>\n",
       "      <th>land</th>\n",
       "      <th>count</th>\n",
       "      <th>srv_count</th>\n",
       "      <th>result</th>\n",
       "    </tr>\n",
       "  </thead>\n",
       "  <tbody>\n",
       "    <tr>\n",
       "      <th>0</th>\n",
       "      <td>15.6</td>\n",
       "      <td>icmp</td>\n",
       "      <td>finger</td>\n",
       "      <td>OTH</td>\n",
       "      <td>2039</td>\n",
       "      <td>575</td>\n",
       "      <td>0</td>\n",
       "      <td>12</td>\n",
       "      <td>9</td>\n",
       "      <td>normal</td>\n",
       "    </tr>\n",
       "    <tr>\n",
       "      <th>1</th>\n",
       "      <td>13.7</td>\n",
       "      <td>arp</td>\n",
       "      <td>cifs</td>\n",
       "      <td>ECE</td>\n",
       "      <td>2507</td>\n",
       "      <td>684</td>\n",
       "      <td>0</td>\n",
       "      <td>17</td>\n",
       "      <td>6</td>\n",
       "      <td>normal</td>\n",
       "    </tr>\n",
       "    <tr>\n",
       "      <th>2</th>\n",
       "      <td>7.3</td>\n",
       "      <td>eigrp</td>\n",
       "      <td>ncp</td>\n",
       "      <td>SYN</td>\n",
       "      <td>1894</td>\n",
       "      <td>1836</td>\n",
       "      <td>0</td>\n",
       "      <td>15</td>\n",
       "      <td>4</td>\n",
       "      <td>normal</td>\n",
       "    </tr>\n",
       "    <tr>\n",
       "      <th>3</th>\n",
       "      <td>7.9</td>\n",
       "      <td>ospf</td>\n",
       "      <td>irc</td>\n",
       "      <td>SHR</td>\n",
       "      <td>4500</td>\n",
       "      <td>3293</td>\n",
       "      <td>0</td>\n",
       "      <td>8</td>\n",
       "      <td>2</td>\n",
       "      <td>normal</td>\n",
       "    </tr>\n",
       "    <tr>\n",
       "      <th>4</th>\n",
       "      <td>1.8</td>\n",
       "      <td>tcp</td>\n",
       "      <td>irc</td>\n",
       "      <td>CWR</td>\n",
       "      <td>2524</td>\n",
       "      <td>477</td>\n",
       "      <td>0</td>\n",
       "      <td>18</td>\n",
       "      <td>6</td>\n",
       "      <td>normal</td>\n",
       "    </tr>\n",
       "  </tbody>\n",
       "</table>\n",
       "</div>"
      ],
      "text/plain": [
       "   duration protocol_type service flag  src_bytes  dst_bytes  land  count  \\\n",
       "0      15.6          icmp  finger  OTH       2039        575     0     12   \n",
       "1      13.7           arp    cifs  ECE       2507        684     0     17   \n",
       "2       7.3         eigrp     ncp  SYN       1894       1836     0     15   \n",
       "3       7.9          ospf     irc  SHR       4500       3293     0      8   \n",
       "4       1.8           tcp     irc  CWR       2524        477     0     18   \n",
       "\n",
       "   srv_count  result  \n",
       "0          9  normal  \n",
       "1          6  normal  \n",
       "2          4  normal  \n",
       "3          2  normal  \n",
       "4          6  normal  "
      ]
     },
     "execution_count": 6,
     "metadata": {},
     "output_type": "execute_result"
    }
   ],
   "source": [
    "df.head()"
   ]
  },
  {
   "cell_type": "code",
   "execution_count": 8,
   "id": "6096ef9b-e083-4972-8096-13a6ff4a7ef3",
   "metadata": {},
   "outputs": [
    {
     "data": {
      "text/plain": [
       "Text(0.5, 1.0, 'Correlation Heatmap')"
      ]
     },
     "execution_count": 8,
     "metadata": {},
     "output_type": "execute_result"
    },
    {
     "data": {
      "image/png": "[encoded data removed]",
      "text/plain": [
       "<Figure size 1200x1000 with 2 Axes>"
      ]
     },
     "metadata": {},
     "output_type": "display_data"
    }
   ],
   "source": [
    "corr = df[[\"duration\", \"src_bytes\", \"dst_bytes\", \"land\", \"count\", \"srv_count\"]].corr()\n",
    "\n",
    "# Set up the matplotlib figure\n",
    "plt.figure(figsize=(12, 10))\n",
    "\n",
    "# Create the heatmap\n",
    "sns.heatmap(corr, annot=True, fmt=\".2f\", cmap='coolwarm', square=True, cbar_kws={\"shrink\": .8})\n",
    "\n",
    "# Set the title\n",
    "plt.title('Correlation Heatmap')"
   ]
  },
  {
   "cell_type": "code",
   "execution_count": 9,
   "id": "d2da54c3-55e3-44b5-a751-abb54db30591",
   "metadata": {},
   "outputs": [
    {
     "data": {
      "text/html": [
       "<div>\n",
       "<style scoped>\n",
       "    .dataframe tbody tr th:only-of-type {\n",
       "        vertical-align: middle;\n",
       "    }\n",
       "\n",
       "    .dataframe tbody tr th {\n",
       "        vertical-align: top;\n",
       "    }\n",
       "\n",
       "    .dataframe thead th {\n",
       "        text-align: right;\n",
       "    }\n",
       "</style>\n",
       "<table border=\"1\" class=\"dataframe\">\n",
       "  <thead>\n",
       "    <tr style=\"text-align: right;\">\n",
       "      <th></th>\n",
       "      <th>duration</th>\n",
       "      <th>src_bytes</th>\n",
       "      <th>dst_bytes</th>\n",
       "      <th>land</th>\n",
       "      <th>count</th>\n",
       "      <th>srv_count</th>\n",
       "    </tr>\n",
       "  </thead>\n",
       "  <tbody>\n",
       "    <tr>\n",
       "      <th>duration</th>\n",
       "      <td>1.000000</td>\n",
       "      <td>0.401288</td>\n",
       "      <td>0.325926</td>\n",
       "      <td>0.557007</td>\n",
       "      <td>0.630303</td>\n",
       "      <td>0.629998</td>\n",
       "    </tr>\n",
       "    <tr>\n",
       "      <th>src_bytes</th>\n",
       "      <td>0.401288</td>\n",
       "      <td>1.000000</td>\n",
       "      <td>0.500280</td>\n",
       "      <td>0.319998</td>\n",
       "      <td>0.362624</td>\n",
       "      <td>0.362303</td>\n",
       "    </tr>\n",
       "    <tr>\n",
       "      <th>dst_bytes</th>\n",
       "      <td>0.325926</td>\n",
       "      <td>0.500280</td>\n",
       "      <td>1.000000</td>\n",
       "      <td>0.260026</td>\n",
       "      <td>0.294514</td>\n",
       "      <td>0.294763</td>\n",
       "    </tr>\n",
       "    <tr>\n",
       "      <th>land</th>\n",
       "      <td>0.557007</td>\n",
       "      <td>0.319998</td>\n",
       "      <td>0.260026</td>\n",
       "      <td>1.000000</td>\n",
       "      <td>0.503750</td>\n",
       "      <td>0.503184</td>\n",
       "    </tr>\n",
       "    <tr>\n",
       "      <th>count</th>\n",
       "      <td>0.630303</td>\n",
       "      <td>0.362624</td>\n",
       "      <td>0.294514</td>\n",
       "      <td>0.503750</td>\n",
       "      <td>1.000000</td>\n",
       "      <td>0.570295</td>\n",
       "    </tr>\n",
       "    <tr>\n",
       "      <th>srv_count</th>\n",
       "      <td>0.629998</td>\n",
       "      <td>0.362303</td>\n",
       "      <td>0.294763</td>\n",
       "      <td>0.503184</td>\n",
       "      <td>0.570295</td>\n",
       "      <td>1.000000</td>\n",
       "    </tr>\n",
       "  </tbody>\n",
       "</table>\n",
       "</div>"
      ],
      "text/plain": [
       "           duration  src_bytes  dst_bytes      land     count  srv_count\n",
       "duration   1.000000   0.401288   0.325926  0.557007  0.630303   0.629998\n",
       "src_bytes  0.401288   1.000000   0.500280  0.319998  0.362624   0.362303\n",
       "dst_bytes  0.325926   0.500280   1.000000  0.260026  0.294514   0.294763\n",
       "land       0.557007   0.319998   0.260026  1.000000  0.503750   0.503184\n",
       "count      0.630303   0.362624   0.294514  0.503750  1.000000   0.570295\n",
       "srv_count  0.629998   0.362303   0.294763  0.503184  0.570295   1.000000"
      ]
     },
     "execution_count": 9,
     "metadata": {},
     "output_type": "execute_result"
    }
   ],
   "source": [
    "corr"
   ]
  },
  {
   "cell_type": "code",
   "execution_count": null,
   "id": "56db6732-e865-4ff1-a124-c5a976b1c593",
   "metadata": {},
   "outputs": [],
   "source": [
    "import pandas as pd\n",
    "from sklearn.model_selection import train_test_split, GridSearchCV\n",
    "from sklearn.ensemble import RandomForestClassifier\n",
    "from sklearn.preprocessing import StandardScaler\n",
    "from sklearn.metrics import classification_report, confusion_matrix\n",
    "import joblib\n",
    "\n",
    "df.fillna(method='ffill', inplace=True)\n",
    "\n",
    "df = pd.get_dummies(df, columns=['protocol_type', 'service', 'flag'])\n",
    "\n",
    "scaler = StandardScaler()\n",
    "df[['duration', 'src_bytes', 'dst_bytes', 'land', 'count', 'srv_count', 'result']] = scaler.fit_transform(\n",
    "    df[['duration', 'src_bytes', 'dst_bytes', 'land', 'count', 'srv_count', 'result']]\n",
    ")\n",
    "\n",
    "X = df.drop('result', axis=1)\n",
    "y = df['result']\n",
    "X_train, X_test, y_train, y_test = train_test_split(X, y, test_size=0.2, random_state=42)\n",
    "\n",
    "# Model training\n",
    "model = RandomForestClassifier(random_state=42)\n",
    "model.fit(X_train, y_train)\n",
    "\n",
    "# Model evaluation\n",
    "y_pred = model.predict(X_test)\n",
    "print(classification_report(y_test, y_pred))\n",
    "print(confusion_matrix(y_test, y_pred))\n",
    "\n",
    "param_grid = {\n",
    "    'n_estimators': [100, 200],\n",
    "    'max_depth': [None, 10, 20, 30],\n",
    "}\n",
    "grid_search = GridSearchCV(RandomForestClassifier(), param_grid, cv=3)\n",
    "grid_search.fit(X_train, y_train)\n",
    "\n",
    "joblib.dump(model, 'random_forest_model.pkl')\n"
   ]
  }
 ],
 "metadata": {
  "kernelspec": {
   "display_name": "Python 3 (ipykernel)",
   "language": "python",
   "name": "python3"
  },
  "language_info": {
   "codemirror_mode": {
    "name": "ipython",
    "version": 3
   },
   "file_extension": ".py",
   "mimetype": "text/x-python",
   "name": "python",
   "nbconvert_exporter": "python",
   "pygments_lexer": "ipython3",
   "version": "3.12.3"
  }
 },
 "nbformat": 4,
 "nbformat_minor": 5
}
